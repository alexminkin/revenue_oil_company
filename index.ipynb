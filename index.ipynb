{
 "cells": [
  {
   "cell_type": "markdown",
   "id": "a100eb2d",
   "metadata": {},
   "source": [
    "# Choosing location for an oil well"
   ]
  },
  {
   "cell_type": "markdown",
   "id": "f5b216c1",
   "metadata": {},
   "source": [
    "Oil samples were provided in three regions: in each 10,000 fields, where the quality of oil and the volume of its reserves were measured. It is necessary to build a machine learning model that will help determine the region where mining will bring the greatest profit. \\\n",
    "\\\n",
    "Steps to choose a location:\n",
    "- In the selected region, they are looking for deposits, for each, the values of the signs are determined;\n",
    "- Build a model and estimate the volume of reserves;\n",
    "- Select the deposits with the highest value estimates. The number of fields depends on the company's budget and the cost of developing one well;\n",
    "- The profit is equal to the total profit of the selected fields."
   ]
  },
  {
   "cell_type": "markdown",
   "id": "967b1f1a",
   "metadata": {},
   "source": [
    "## Loading and preparing data"
   ]
  },
  {
   "cell_type": "markdown",
   "id": "da776d86",
   "metadata": {},
   "source": [
    "Let's import necessary libraries"
   ]
  },
  {
   "cell_type": "code",
   "execution_count": 1,
   "id": "ff8f161c",
   "metadata": {},
   "outputs": [],
   "source": [
    "import pandas as pd\n",
    "import matplotlib.pyplot as plt \n",
    "\n",
    "from numpy.random import RandomState\n",
    "\n",
    "from sklearn.model_selection import train_test_split\n",
    "\n",
    "from sklearn.linear_model import LinearRegression\n",
    "\n",
    "from sklearn.metrics import mean_squared_error\n",
    "from sklearn.metrics import r2_score\n",
    "\n",
    "from sklearn.preprocessing import StandardScaler\n",
    "\n",
    "import warnings"
   ]
  },
  {
   "cell_type": "code",
   "execution_count": 2,
   "id": "e3c491be",
   "metadata": {},
   "outputs": [],
   "source": [
    "warnings.filterwarnings('ignore')"
   ]
  },
  {
   "cell_type": "markdown",
   "id": "eda41914",
   "metadata": {},
   "source": [
    "Let's download datasets"
   ]
  },
  {
   "cell_type": "code",
   "execution_count": 3,
   "id": "fc807877",
   "metadata": {},
   "outputs": [],
   "source": [
    "try:\n",
    "    data_region1 = pd.read_csv('datasets/geo_data_0.csv')\n",
    "    data_region2 = pd.read_csv('datasets/geo_data_1.csv')\n",
    "    data_region3 = pd.read_csv('datasets/geo_data_2.csv')\n",
    "except:\n",
    "    data_region1 = pd.read_csv('/datasets/geo_data_0.csv')\n",
    "    data_region2 = pd.read_csv('/datasets/geo_data_1.csv')\n",
    "    data_region3 = pd.read_csv('/datasets/geo_data_2.csv')"
   ]
  },
  {
   "cell_type": "markdown",
   "id": "0f71bcb9",
   "metadata": {},
   "source": [
    "Let's discover data"
   ]
  },
  {
   "cell_type": "markdown",
   "id": "4e563bb8",
   "metadata": {},
   "source": [
    "### Useful functions"
   ]
  },
  {
   "cell_type": "code",
   "execution_count": 4,
   "id": "1b9e9186",
   "metadata": {},
   "outputs": [],
   "source": [
    "def print_dupl(data):\n",
    "    print(f'id: {data.duplicated(subset=[\"id\"]).sum()}')\n",
    "    print(f'f0: {data.duplicated(subset=[\"f0\"]).sum()}')\n",
    "    print(f'f1: {data.duplicated(subset=[\"f1\"]).sum()}')\n",
    "    print(f'f2: {data.duplicated(subset=[\"f2\"]).sum()}')"
   ]
  },
  {
   "cell_type": "markdown",
   "id": "f4966b1d",
   "metadata": {},
   "source": [
    "### Region 1"
   ]
  },
  {
   "cell_type": "code",
   "execution_count": 5,
   "id": "4f272b3e",
   "metadata": {},
   "outputs": [
    {
     "name": "stdout",
     "output_type": "stream",
     "text": [
      "<class 'pandas.core.frame.DataFrame'>\n",
      "RangeIndex: 100000 entries, 0 to 99999\n",
      "Data columns (total 5 columns):\n",
      " #   Column   Non-Null Count   Dtype  \n",
      "---  ------   --------------   -----  \n",
      " 0   id       100000 non-null  object \n",
      " 1   f0       100000 non-null  float64\n",
      " 2   f1       100000 non-null  float64\n",
      " 3   f2       100000 non-null  float64\n",
      " 4   product  100000 non-null  float64\n",
      "dtypes: float64(4), object(1)\n",
      "memory usage: 3.8+ MB\n"
     ]
    }
   ],
   "source": [
    "data_region1.info()"
   ]
  },
  {
   "cell_type": "code",
   "execution_count": 6,
   "id": "59b259c7",
   "metadata": {
    "scrolled": true
   },
   "outputs": [
    {
     "data": {
      "text/html": [
       "<div>\n",
       "<style scoped>\n",
       "    .dataframe tbody tr th:only-of-type {\n",
       "        vertical-align: middle;\n",
       "    }\n",
       "\n",
       "    .dataframe tbody tr th {\n",
       "        vertical-align: top;\n",
       "    }\n",
       "\n",
       "    .dataframe thead th {\n",
       "        text-align: right;\n",
       "    }\n",
       "</style>\n",
       "<table border=\"1\" class=\"dataframe\">\n",
       "  <thead>\n",
       "    <tr style=\"text-align: right;\">\n",
       "      <th></th>\n",
       "      <th>id</th>\n",
       "      <th>f0</th>\n",
       "      <th>f1</th>\n",
       "      <th>f2</th>\n",
       "      <th>product</th>\n",
       "    </tr>\n",
       "  </thead>\n",
       "  <tbody>\n",
       "    <tr>\n",
       "      <th>0</th>\n",
       "      <td>txEyH</td>\n",
       "      <td>0.705745</td>\n",
       "      <td>-0.497823</td>\n",
       "      <td>1.221170</td>\n",
       "      <td>105.280062</td>\n",
       "    </tr>\n",
       "    <tr>\n",
       "      <th>1</th>\n",
       "      <td>2acmU</td>\n",
       "      <td>1.334711</td>\n",
       "      <td>-0.340164</td>\n",
       "      <td>4.365080</td>\n",
       "      <td>73.037750</td>\n",
       "    </tr>\n",
       "    <tr>\n",
       "      <th>2</th>\n",
       "      <td>409Wp</td>\n",
       "      <td>1.022732</td>\n",
       "      <td>0.151990</td>\n",
       "      <td>1.419926</td>\n",
       "      <td>85.265647</td>\n",
       "    </tr>\n",
       "    <tr>\n",
       "      <th>3</th>\n",
       "      <td>iJLyR</td>\n",
       "      <td>-0.032172</td>\n",
       "      <td>0.139033</td>\n",
       "      <td>2.978566</td>\n",
       "      <td>168.620776</td>\n",
       "    </tr>\n",
       "    <tr>\n",
       "      <th>4</th>\n",
       "      <td>Xdl7t</td>\n",
       "      <td>1.988431</td>\n",
       "      <td>0.155413</td>\n",
       "      <td>4.751769</td>\n",
       "      <td>154.036647</td>\n",
       "    </tr>\n",
       "  </tbody>\n",
       "</table>\n",
       "</div>"
      ],
      "text/plain": [
       "      id        f0        f1        f2     product\n",
       "0  txEyH  0.705745 -0.497823  1.221170  105.280062\n",
       "1  2acmU  1.334711 -0.340164  4.365080   73.037750\n",
       "2  409Wp  1.022732  0.151990  1.419926   85.265647\n",
       "3  iJLyR -0.032172  0.139033  2.978566  168.620776\n",
       "4  Xdl7t  1.988431  0.155413  4.751769  154.036647"
      ]
     },
     "execution_count": 6,
     "metadata": {},
     "output_type": "execute_result"
    }
   ],
   "source": [
    "data_region1.head()"
   ]
  },
  {
   "cell_type": "markdown",
   "id": "b8939a59",
   "metadata": {},
   "source": [
    "### Region 2"
   ]
  },
  {
   "cell_type": "code",
   "execution_count": 7,
   "id": "41517d73",
   "metadata": {},
   "outputs": [
    {
     "name": "stdout",
     "output_type": "stream",
     "text": [
      "<class 'pandas.core.frame.DataFrame'>\n",
      "RangeIndex: 100000 entries, 0 to 99999\n",
      "Data columns (total 5 columns):\n",
      " #   Column   Non-Null Count   Dtype  \n",
      "---  ------   --------------   -----  \n",
      " 0   id       100000 non-null  object \n",
      " 1   f0       100000 non-null  float64\n",
      " 2   f1       100000 non-null  float64\n",
      " 3   f2       100000 non-null  float64\n",
      " 4   product  100000 non-null  float64\n",
      "dtypes: float64(4), object(1)\n",
      "memory usage: 3.8+ MB\n"
     ]
    }
   ],
   "source": [
    "data_region2.info()"
   ]
  },
  {
   "cell_type": "code",
   "execution_count": 8,
   "id": "f14493f6",
   "metadata": {
    "scrolled": true
   },
   "outputs": [
    {
     "data": {
      "text/html": [
       "<div>\n",
       "<style scoped>\n",
       "    .dataframe tbody tr th:only-of-type {\n",
       "        vertical-align: middle;\n",
       "    }\n",
       "\n",
       "    .dataframe tbody tr th {\n",
       "        vertical-align: top;\n",
       "    }\n",
       "\n",
       "    .dataframe thead th {\n",
       "        text-align: right;\n",
       "    }\n",
       "</style>\n",
       "<table border=\"1\" class=\"dataframe\">\n",
       "  <thead>\n",
       "    <tr style=\"text-align: right;\">\n",
       "      <th></th>\n",
       "      <th>id</th>\n",
       "      <th>f0</th>\n",
       "      <th>f1</th>\n",
       "      <th>f2</th>\n",
       "      <th>product</th>\n",
       "    </tr>\n",
       "  </thead>\n",
       "  <tbody>\n",
       "    <tr>\n",
       "      <th>0</th>\n",
       "      <td>kBEdx</td>\n",
       "      <td>-15.001348</td>\n",
       "      <td>-8.276000</td>\n",
       "      <td>-0.005876</td>\n",
       "      <td>3.179103</td>\n",
       "    </tr>\n",
       "    <tr>\n",
       "      <th>1</th>\n",
       "      <td>62mP7</td>\n",
       "      <td>14.272088</td>\n",
       "      <td>-3.475083</td>\n",
       "      <td>0.999183</td>\n",
       "      <td>26.953261</td>\n",
       "    </tr>\n",
       "    <tr>\n",
       "      <th>2</th>\n",
       "      <td>vyE1P</td>\n",
       "      <td>6.263187</td>\n",
       "      <td>-5.948386</td>\n",
       "      <td>5.001160</td>\n",
       "      <td>134.766305</td>\n",
       "    </tr>\n",
       "    <tr>\n",
       "      <th>3</th>\n",
       "      <td>KcrkZ</td>\n",
       "      <td>-13.081196</td>\n",
       "      <td>-11.506057</td>\n",
       "      <td>4.999415</td>\n",
       "      <td>137.945408</td>\n",
       "    </tr>\n",
       "    <tr>\n",
       "      <th>4</th>\n",
       "      <td>AHL4O</td>\n",
       "      <td>12.702195</td>\n",
       "      <td>-8.147433</td>\n",
       "      <td>5.004363</td>\n",
       "      <td>134.766305</td>\n",
       "    </tr>\n",
       "  </tbody>\n",
       "</table>\n",
       "</div>"
      ],
      "text/plain": [
       "      id         f0         f1        f2     product\n",
       "0  kBEdx -15.001348  -8.276000 -0.005876    3.179103\n",
       "1  62mP7  14.272088  -3.475083  0.999183   26.953261\n",
       "2  vyE1P   6.263187  -5.948386  5.001160  134.766305\n",
       "3  KcrkZ -13.081196 -11.506057  4.999415  137.945408\n",
       "4  AHL4O  12.702195  -8.147433  5.004363  134.766305"
      ]
     },
     "execution_count": 8,
     "metadata": {},
     "output_type": "execute_result"
    }
   ],
   "source": [
    "data_region2.head()"
   ]
  },
  {
   "cell_type": "markdown",
   "id": "76412b53",
   "metadata": {},
   "source": [
    "### Region 3"
   ]
  },
  {
   "cell_type": "code",
   "execution_count": 9,
   "id": "dbf84a23",
   "metadata": {},
   "outputs": [
    {
     "name": "stdout",
     "output_type": "stream",
     "text": [
      "<class 'pandas.core.frame.DataFrame'>\n",
      "RangeIndex: 100000 entries, 0 to 99999\n",
      "Data columns (total 5 columns):\n",
      " #   Column   Non-Null Count   Dtype  \n",
      "---  ------   --------------   -----  \n",
      " 0   id       100000 non-null  object \n",
      " 1   f0       100000 non-null  float64\n",
      " 2   f1       100000 non-null  float64\n",
      " 3   f2       100000 non-null  float64\n",
      " 4   product  100000 non-null  float64\n",
      "dtypes: float64(4), object(1)\n",
      "memory usage: 3.8+ MB\n"
     ]
    }
   ],
   "source": [
    "data_region3.info()"
   ]
  },
  {
   "cell_type": "code",
   "execution_count": 10,
   "id": "f53ecac4",
   "metadata": {},
   "outputs": [
    {
     "data": {
      "text/html": [
       "<div>\n",
       "<style scoped>\n",
       "    .dataframe tbody tr th:only-of-type {\n",
       "        vertical-align: middle;\n",
       "    }\n",
       "\n",
       "    .dataframe tbody tr th {\n",
       "        vertical-align: top;\n",
       "    }\n",
       "\n",
       "    .dataframe thead th {\n",
       "        text-align: right;\n",
       "    }\n",
       "</style>\n",
       "<table border=\"1\" class=\"dataframe\">\n",
       "  <thead>\n",
       "    <tr style=\"text-align: right;\">\n",
       "      <th></th>\n",
       "      <th>id</th>\n",
       "      <th>f0</th>\n",
       "      <th>f1</th>\n",
       "      <th>f2</th>\n",
       "      <th>product</th>\n",
       "    </tr>\n",
       "  </thead>\n",
       "  <tbody>\n",
       "    <tr>\n",
       "      <th>0</th>\n",
       "      <td>fwXo0</td>\n",
       "      <td>-1.146987</td>\n",
       "      <td>0.963328</td>\n",
       "      <td>-0.828965</td>\n",
       "      <td>27.758673</td>\n",
       "    </tr>\n",
       "    <tr>\n",
       "      <th>1</th>\n",
       "      <td>WJtFt</td>\n",
       "      <td>0.262778</td>\n",
       "      <td>0.269839</td>\n",
       "      <td>-2.530187</td>\n",
       "      <td>56.069697</td>\n",
       "    </tr>\n",
       "    <tr>\n",
       "      <th>2</th>\n",
       "      <td>ovLUW</td>\n",
       "      <td>0.194587</td>\n",
       "      <td>0.289035</td>\n",
       "      <td>-5.586433</td>\n",
       "      <td>62.871910</td>\n",
       "    </tr>\n",
       "    <tr>\n",
       "      <th>3</th>\n",
       "      <td>q6cA6</td>\n",
       "      <td>2.236060</td>\n",
       "      <td>-0.553760</td>\n",
       "      <td>0.930038</td>\n",
       "      <td>114.572842</td>\n",
       "    </tr>\n",
       "    <tr>\n",
       "      <th>4</th>\n",
       "      <td>WPMUX</td>\n",
       "      <td>-0.515993</td>\n",
       "      <td>1.716266</td>\n",
       "      <td>5.899011</td>\n",
       "      <td>149.600746</td>\n",
       "    </tr>\n",
       "  </tbody>\n",
       "</table>\n",
       "</div>"
      ],
      "text/plain": [
       "      id        f0        f1        f2     product\n",
       "0  fwXo0 -1.146987  0.963328 -0.828965   27.758673\n",
       "1  WJtFt  0.262778  0.269839 -2.530187   56.069697\n",
       "2  ovLUW  0.194587  0.289035 -5.586433   62.871910\n",
       "3  q6cA6  2.236060 -0.553760  0.930038  114.572842\n",
       "4  WPMUX -0.515993  1.716266  5.899011  149.600746"
      ]
     },
     "execution_count": 10,
     "metadata": {},
     "output_type": "execute_result"
    }
   ],
   "source": [
    "data_region3.head()"
   ]
  },
  {
   "cell_type": "markdown",
   "id": "42d7fe59",
   "metadata": {},
   "source": [
    "Let's check duplicates"
   ]
  },
  {
   "cell_type": "markdown",
   "id": "36bdfd31",
   "metadata": {},
   "source": [
    "### Region 1"
   ]
  },
  {
   "cell_type": "code",
   "execution_count": 11,
   "id": "b93e0264",
   "metadata": {},
   "outputs": [
    {
     "data": {
      "text/plain": [
       "0"
      ]
     },
     "execution_count": 11,
     "metadata": {},
     "output_type": "execute_result"
    }
   ],
   "source": [
    "data_region1.duplicated().sum()"
   ]
  },
  {
   "cell_type": "code",
   "execution_count": 12,
   "id": "c1fb1538",
   "metadata": {},
   "outputs": [
    {
     "name": "stdout",
     "output_type": "stream",
     "text": [
      "id: 10\n",
      "f0: 0\n",
      "f1: 0\n",
      "f2: 0\n"
     ]
    }
   ],
   "source": [
    "print_dupl(data_region1)"
   ]
  },
  {
   "cell_type": "code",
   "execution_count": 13,
   "id": "65b7de5d",
   "metadata": {},
   "outputs": [],
   "source": [
    "data_region1 = data_region1.drop_duplicates(subset=['id'])"
   ]
  },
  {
   "cell_type": "markdown",
   "id": "1e35def7",
   "metadata": {},
   "source": [
    "### Region 2"
   ]
  },
  {
   "cell_type": "code",
   "execution_count": 14,
   "id": "615b0e0c",
   "metadata": {},
   "outputs": [
    {
     "data": {
      "text/plain": [
       "0"
      ]
     },
     "execution_count": 14,
     "metadata": {},
     "output_type": "execute_result"
    }
   ],
   "source": [
    "data_region2.duplicated().sum()"
   ]
  },
  {
   "cell_type": "code",
   "execution_count": 15,
   "id": "eb37a6d4",
   "metadata": {},
   "outputs": [
    {
     "name": "stdout",
     "output_type": "stream",
     "text": [
      "id: 4\n",
      "f0: 0\n",
      "f1: 0\n",
      "f2: 0\n"
     ]
    }
   ],
   "source": [
    "print_dupl(data_region2)"
   ]
  },
  {
   "cell_type": "code",
   "execution_count": 16,
   "id": "a31b025f",
   "metadata": {},
   "outputs": [],
   "source": [
    "data_region2 = data_region2.drop_duplicates(subset=['id'])"
   ]
  },
  {
   "cell_type": "markdown",
   "id": "ced213c1",
   "metadata": {},
   "source": [
    "### Region 3"
   ]
  },
  {
   "cell_type": "code",
   "execution_count": 17,
   "id": "734b04f2",
   "metadata": {},
   "outputs": [
    {
     "data": {
      "text/plain": [
       "0"
      ]
     },
     "execution_count": 17,
     "metadata": {},
     "output_type": "execute_result"
    }
   ],
   "source": [
    "data_region3.duplicated().sum()"
   ]
  },
  {
   "cell_type": "code",
   "execution_count": 18,
   "id": "8cb828b5",
   "metadata": {},
   "outputs": [
    {
     "name": "stdout",
     "output_type": "stream",
     "text": [
      "id: 4\n",
      "f0: 0\n",
      "f1: 0\n",
      "f2: 0\n"
     ]
    }
   ],
   "source": [
    "print_dupl(data_region3)"
   ]
  },
  {
   "cell_type": "code",
   "execution_count": 19,
   "id": "8181ffa7",
   "metadata": {},
   "outputs": [],
   "source": [
    "data_region3 = data_region3.drop_duplicates(subset=['id'])"
   ]
  },
  {
   "cell_type": "markdown",
   "id": "516f99e2",
   "metadata": {},
   "source": [
    "Chech the data for correctness. We are only interested in one feature – **product**"
   ]
  },
  {
   "cell_type": "markdown",
   "id": "6d32727e",
   "metadata": {},
   "source": [
    "### Useful functions"
   ]
  },
  {
   "cell_type": "code",
   "execution_count": 20,
   "id": "0ff2655f",
   "metadata": {},
   "outputs": [],
   "source": [
    "def display_struct_data(data):\n",
    "    min_value = data['product'].describe()['min']\n",
    "    max_value = data['product'].describe()['max']\n",
    "    mean_value = data['product'].describe()['mean']\n",
    "    median_value = data['product'].describe()['50%']\n",
    "    \n",
    "    plt.ylim(min_value, max_value)\n",
    "    data.boxplot(column='product', figsize=(3, 3))\n",
    "    print(f'Mean = {mean_value}')\n",
    "    print(f'Median = {median_value}')"
   ]
  },
  {
   "cell_type": "markdown",
   "id": "7e50dcf6",
   "metadata": {},
   "source": [
    "### Region 1"
   ]
  },
  {
   "cell_type": "code",
   "execution_count": 21,
   "id": "df086c8a",
   "metadata": {},
   "outputs": [
    {
     "name": "stdout",
     "output_type": "stream",
     "text": [
      "Mean = 92.49968421774328\n",
      "Median = 91.84792790724278\n"
     ]
    },
    {
     "data": {
      "image/png": "[encoded data removed]",
      "text/plain": [
       "<Figure size 640x480 with 1 Axes>"
      ]
     },
     "metadata": {},
     "output_type": "display_data"
    }
   ],
   "source": [
    "display_struct_data(data_region1)"
   ]
  },
  {
   "cell_type": "markdown",
   "id": "a0ae8e62",
   "metadata": {},
   "source": [
    "### Region 2"
   ]
  },
  {
   "cell_type": "code",
   "execution_count": 22,
   "id": "f9413226",
   "metadata": {},
   "outputs": [
    {
     "name": "stdout",
     "output_type": "stream",
     "text": [
      "Mean = 68.82391591806625\n",
      "Median = 57.08562464628662\n"
     ]
    },
    {
     "data": {
      "image/png": "[encoded data removed]",
      "text/plain": [
       "<Figure size 640x480 with 1 Axes>"
      ]
     },
     "metadata": {},
     "output_type": "display_data"
    }
   ],
   "source": [
    "display_struct_data(data_region2)"
   ]
  },
  {
   "cell_type": "markdown",
   "id": "0968cc29",
   "metadata": {},
   "source": [
    "### Region 3"
   ]
  },
  {
   "cell_type": "code",
   "execution_count": 23,
   "id": "e9031a2d",
   "metadata": {},
   "outputs": [
    {
     "name": "stdout",
     "output_type": "stream",
     "text": [
      "Mean = 94.99834211933415\n",
      "Median = 94.92502617656251\n"
     ]
    },
    {
     "data": {
      "image/png": "[encoded data removed]",
      "text/plain": [
       "<Figure size 640x480 with 1 Axes>"
      ]
     },
     "metadata": {},
     "output_type": "display_data"
    }
   ],
   "source": [
    "display_struct_data(data_region3)"
   ]
  },
  {
   "cell_type": "markdown",
   "id": "c131ad00",
   "metadata": {},
   "source": [
    "**Conclusion:** No outbursts are observed, it is worth noting that there are many small wells in the second region."
   ]
  },
  {
   "cell_type": "markdown",
   "id": "cf62fa0c",
   "metadata": {},
   "source": [
    "## Train and validate the model"
   ]
  },
  {
   "cell_type": "markdown",
   "id": "061ab87e",
   "metadata": {},
   "source": [
    "To train on the data of each region, we will use the LinearRegression"
   ]
  },
  {
   "cell_type": "markdown",
   "id": "ab1cea8a",
   "metadata": {},
   "source": [
    "### Useful functions"
   ]
  },
  {
   "cell_type": "code",
   "execution_count": 24,
   "id": "13385d13",
   "metadata": {},
   "outputs": [],
   "source": [
    "def train_sample(data, model):\n",
    "    dict_metrics = {}\n",
    "    \n",
    "    features = data.drop(['product', 'id'], axis=1)\n",
    "    target = data['product']\n",
    "    features_train, features_valid, target_train, target_valid = train_test_split(features, target, test_size=0.25, random_state=12345)\n",
    "    \n",
    "    scaler = StandardScaler()\n",
    "    scaler.fit(features_train)\n",
    "    features_train_scaler = scaler.transform(features_train)\n",
    "    features_valid_scaler = scaler.transform(features_valid)\n",
    "    \n",
    "    model.fit(features_train_scaler, target_train)\n",
    "    predict_valid = model.predict(features_valid_scaler)\n",
    "    mse = mean_squared_error(target_valid, predict_valid)\n",
    "    dict_metrics['mse'] = mse\n",
    "    rmse = mse ** 0.5\n",
    "    dict_metrics['rmse'] = rmse\n",
    "    r2 = r2_score(target_valid, predict_valid)\n",
    "    dict_metrics['r2'] = r2\n",
    "    mean_product = predict_valid.mean()\n",
    "    dict_metrics['mean_product'] = mean_product\n",
    "    \n",
    "    return dict_metrics, predict_valid, target_valid"
   ]
  },
  {
   "cell_type": "markdown",
   "id": "8797e9cd",
   "metadata": {},
   "source": [
    "### Region 1"
   ]
  },
  {
   "cell_type": "code",
   "execution_count": 25,
   "id": "02f16d4d",
   "metadata": {},
   "outputs": [
    {
     "name": "stdout",
     "output_type": "stream",
     "text": [
      "{'mse': 1432.8895312377324, 'rmse': 37.853527328872964, 'r2': 0.2723923460817068, 'mean_product': 92.78915638280621}\n"
     ]
    }
   ],
   "source": [
    "model_1 = LinearRegression()\n",
    "metrics_1, predict_valid_1, target_valid_1 = train_sample(data_region1, model_1)\n",
    "print(metrics_1)"
   ]
  },
  {
   "cell_type": "markdown",
   "id": "0214c788",
   "metadata": {},
   "source": [
    "### Region 2"
   ]
  },
  {
   "cell_type": "code",
   "execution_count": 26,
   "id": "fc515217",
   "metadata": {},
   "outputs": [
    {
     "name": "stdout",
     "output_type": "stream",
     "text": [
      "{'mse': 0.7957697318650333, 'rmse': 0.8920592647717042, 'r2': 0.9996222988190184, 'mean_product': 69.1783195703043}\n"
     ]
    }
   ],
   "source": [
    "model_2 = LinearRegression()\n",
    "metrics_2, predict_valid_2, target_valid_2 = train_sample(data_region2, model_2)\n",
    "print(metrics_2)"
   ]
  },
  {
   "cell_type": "markdown",
   "id": "db0d4de1",
   "metadata": {},
   "source": [
    "### Region 3"
   ]
  },
  {
   "cell_type": "code",
   "execution_count": 27,
   "id": "b3eb70f3",
   "metadata": {},
   "outputs": [
    {
     "name": "stdout",
     "output_type": "stream",
     "text": [
      "{'mse': 1606.0738119304278, 'rmse': 40.07585073246016, 'r2': 0.19556241810202346, 'mean_product': 94.86572480562035}\n"
     ]
    }
   ],
   "source": [
    "model_3 = LinearRegression()\n",
    "metrics_3, predict_valid_3, target_valid_3 = train_sample(data_region3, model_3)\n",
    "print(metrics_3)"
   ]
  },
  {
   "cell_type": "markdown",
   "id": "72f007d6",
   "metadata": {},
   "source": [
    "#### Conclusion\n",
    "The third region is the most profitable **(mean = 94.86)**, but the third model showed a high level of inaccuracy – **rmse = 40.07**. \n",
    "\\\n",
    "On the contrary, the second region is the least profitable **(mean = 69.17)**, but the second model showed a high level of accuracy – **rmse = 0.89**"
   ]
  },
  {
   "cell_type": "markdown",
   "id": "506c0988",
   "metadata": {},
   "source": [
    "## Preparation for profit calculation"
   ]
  },
  {
   "cell_type": "markdown",
   "id": "853e2b28",
   "metadata": {},
   "source": [
    "### General information"
   ]
  },
  {
   "cell_type": "markdown",
   "id": "7fd24e5c",
   "metadata": {},
   "source": [
    "- Budget for well development in the region: **10 000 000 000 ₽**\n",
    "- In the region are researching: **500**\n",
    "- Choosing: **200**\n",
    "- Price per barrel: **450 ₽**\n",
    "- Price for one unit of production: **450 000 ₽**"
   ]
  },
  {
   "cell_type": "code",
   "execution_count": 28,
   "id": "d0baa0bc",
   "metadata": {},
   "outputs": [],
   "source": [
    "INVESTMENTS = 10000000000 \n",
    "COST = 450000\n",
    "COUNT_POINTS = 200\n",
    "COST_PER_POINT = INVESTMENTS / COUNT_POINTS\n",
    "TOTAL_POINTS = 500"
   ]
  },
  {
   "cell_type": "markdown",
   "id": "9667e8ba",
   "metadata": {},
   "source": [
    "Calculate breakeven point and compare with regions"
   ]
  },
  {
   "cell_type": "code",
   "execution_count": 29,
   "id": "43045487",
   "metadata": {},
   "outputs": [
    {
     "name": "stdout",
     "output_type": "stream",
     "text": [
      "Minimum product in each point: 111.11\n"
     ]
    }
   ],
   "source": [
    "MIN_PRODUCT = round(COST_PER_POINT / COST, 2)\n",
    "print('Minimum product in each point:', MIN_PRODUCT)"
   ]
  },
  {
   "cell_type": "markdown",
   "id": "db0d0a4e",
   "metadata": {},
   "source": [
    "### Region 1"
   ]
  },
  {
   "cell_type": "code",
   "execution_count": 30,
   "id": "284807c3",
   "metadata": {},
   "outputs": [
    {
     "name": "stdout",
     "output_type": "stream",
     "text": [
      "Mean product: 92.5\n",
      "Minimum product in each point: 111.11\n"
     ]
    }
   ],
   "source": [
    "print('Mean product:', round(data_region1['product'].mean(), 2))\n",
    "print('Minimum product in each point:', MIN_PRODUCT)"
   ]
  },
  {
   "cell_type": "markdown",
   "id": "d04a06a4",
   "metadata": {},
   "source": [
    "### Region 2"
   ]
  },
  {
   "cell_type": "code",
   "execution_count": 31,
   "id": "2ae4917f",
   "metadata": {},
   "outputs": [
    {
     "name": "stdout",
     "output_type": "stream",
     "text": [
      "Mean product: 68.82\n",
      "Minimum product in each point: 111.11\n"
     ]
    }
   ],
   "source": [
    "print('Mean product:', round(data_region2['product'].mean(), 2))\n",
    "print('Minimum product in each point:', MIN_PRODUCT)"
   ]
  },
  {
   "cell_type": "markdown",
   "id": "b4223f78",
   "metadata": {},
   "source": [
    "### Region 3"
   ]
  },
  {
   "cell_type": "code",
   "execution_count": 32,
   "id": "992d4147",
   "metadata": {},
   "outputs": [
    {
     "name": "stdout",
     "output_type": "stream",
     "text": [
      "Mean product: 95.0\n",
      "Minimum product in each point: 111.11\n"
     ]
    }
   ],
   "source": [
    "print('Mean product:', round(data_region3['product'].mean(), 2))\n",
    "print('Minimum product in each point:', MIN_PRODUCT)"
   ]
  },
  {
   "cell_type": "markdown",
   "id": "60ac27d6",
   "metadata": {},
   "source": [
    "**Conclusion:** Each region has on average less oil than we need"
   ]
  },
  {
   "cell_type": "markdown",
   "id": "d2c50b2e",
   "metadata": {},
   "source": [
    "## Profit and Loss Calculation"
   ]
  },
  {
   "cell_type": "code",
   "execution_count": 33,
   "id": "b2ca8b8f",
   "metadata": {},
   "outputs": [
    {
     "data": {
      "text/plain": [
       "pandas.core.series.Series"
      ]
     },
     "execution_count": 33,
     "metadata": {},
     "output_type": "execute_result"
    }
   ],
   "source": [
    "type(target_valid_2)"
   ]
  },
  {
   "cell_type": "code",
   "execution_count": 34,
   "id": "65f6b2f7",
   "metadata": {},
   "outputs": [
    {
     "data": {
      "text/plain": [
       "numpy.ndarray"
      ]
     },
     "execution_count": 34,
     "metadata": {},
     "output_type": "execute_result"
    }
   ],
   "source": [
    "type(predict_valid_2)"
   ]
  },
  {
   "cell_type": "code",
   "execution_count": 35,
   "id": "2eecc786",
   "metadata": {},
   "outputs": [
    {
     "data": {
      "text/plain": [
       "Int64Index([71748, 80490,  2655, 71171, 91141,  9539,  8482, 76069, 66390,\n",
       "            61531,\n",
       "            ...\n",
       "            89694, 84114, 26033, 99399, 12581, 18456, 73032, 54710, 50911,\n",
       "            46409],\n",
       "           dtype='int64', length=24999)"
      ]
     },
     "execution_count": 35,
     "metadata": {},
     "output_type": "execute_result"
    }
   ],
   "source": [
    "target_valid_2.index"
   ]
  },
  {
   "cell_type": "code",
   "execution_count": 36,
   "id": "211dba61",
   "metadata": {},
   "outputs": [
    {
     "data": {
      "text/plain": [
       "24999"
      ]
     },
     "execution_count": 36,
     "metadata": {},
     "output_type": "execute_result"
    }
   ],
   "source": [
    "predict_new = pd.Series(predict_valid_2)\n",
    "predict_new.index = target_valid_2.index\n",
    "len(predict_new.index)"
   ]
  },
  {
   "cell_type": "markdown",
   "id": "d401158c",
   "metadata": {},
   "source": [
    "### Profit calculation function"
   ]
  },
  {
   "cell_type": "code",
   "execution_count": 37,
   "id": "146f1fd0",
   "metadata": {},
   "outputs": [],
   "source": [
    "def revenue(target, predict):\n",
    "    predict_sort = predict.sort_values(ascending=False)\n",
    "    target_selected = target[predict_sort.index][:COUNT_POINTS]\n",
    "    total_revenue = COST * target_selected.sum() - INVESTMENTS\n",
    "    return total_revenue"
   ]
  },
  {
   "cell_type": "markdown",
   "id": "92386cc0",
   "metadata": {},
   "source": [
    "### Apply Bootstrap"
   ]
  },
  {
   "cell_type": "code",
   "execution_count": 38,
   "id": "a81e7114",
   "metadata": {},
   "outputs": [],
   "source": [
    "state = RandomState(26432)"
   ]
  },
  {
   "cell_type": "code",
   "execution_count": 39,
   "id": "24e1840d",
   "metadata": {},
   "outputs": [],
   "source": [
    "def metrics_bootstrap(target, predict):\n",
    "    predict = pd.Series(predict)\n",
    "    predict.index = target.index\n",
    "    values = []\n",
    "    for i in range(1000):\n",
    "        target_sample = target.sample(n=TOTAL_POINTS, replace=True, random_state=state)\n",
    "        predict_sample = predict[target_sample.index]\n",
    "        values.append(revenue(target_sample, predict_sample))\n",
    "        \n",
    "    values = pd.Series(values)\n",
    "    revenue_mean = round(values.mean(), 2)\n",
    "    min_int = round(values.quantile(0.025), 2)\n",
    "    max_int = round(values.quantile(0.975), 2)\n",
    "    risk_of_loss = round((values < 0).mean() * 100, 2)\n",
    "\n",
    "    print(f'Average profit of the region: {revenue_mean}')\n",
    "    print(f'Risk of loss of the region: {risk_of_loss}%')\n",
    "    print(f'Confidence interval of the region: from {min_int} to {max_int}')\n",
    "    \n",
    "    "
   ]
  },
  {
   "cell_type": "markdown",
   "id": "ae072963",
   "metadata": {},
   "source": [
    "### Region 1"
   ]
  },
  {
   "cell_type": "code",
   "execution_count": 40,
   "id": "d296ed9c",
   "metadata": {},
   "outputs": [
    {
     "name": "stdout",
     "output_type": "stream",
     "text": [
      "Average profit of the region: 422879148.77\n",
      "Risk of loss of the region: 6.5%\n",
      "Confidence interval of the region: from -118282530.26 to 947785727.26\n"
     ]
    }
   ],
   "source": [
    "metrics_bootstrap(target_valid_1, predict_valid_1)"
   ]
  },
  {
   "cell_type": "markdown",
   "id": "0fd8e0c0",
   "metadata": {},
   "source": [
    "### Region 2"
   ]
  },
  {
   "cell_type": "code",
   "execution_count": 41,
   "id": "115bf5b1",
   "metadata": {
    "scrolled": true
   },
   "outputs": [
    {
     "name": "stdout",
     "output_type": "stream",
     "text": [
      "Average profit of the region: 527863210.14\n",
      "Risk of loss of the region: 0.7%\n",
      "Confidence interval of the region: from 126692635.27 to 959380461.6\n"
     ]
    }
   ],
   "source": [
    "metrics_bootstrap(target_valid_2, predict_valid_2)"
   ]
  },
  {
   "cell_type": "markdown",
   "id": "63bb884c",
   "metadata": {},
   "source": [
    "### Region 3"
   ]
  },
  {
   "cell_type": "code",
   "execution_count": 42,
   "id": "a8a9d2f3",
   "metadata": {},
   "outputs": [
    {
     "name": "stdout",
     "output_type": "stream",
     "text": [
      "Average profit of the region: 364485249.47\n",
      "Risk of loss of the region: 9.2%\n",
      "Confidence interval of the region: from -142553732.25 to 937185806.38\n"
     ]
    }
   ],
   "source": [
    "metrics_bootstrap(target_valid_3, predict_valid_3)"
   ]
  },
  {
   "cell_type": "markdown",
   "id": "9e711ed6",
   "metadata": {},
   "source": [
    "### Conclusion"
   ]
  },
  {
   "cell_type": "markdown",
   "id": "74f441e6",
   "metadata": {},
   "source": [
    "We chose Region 2, because the risk of loss is the lowest = **0.9%** and average profit is biggest = **541 337 000 ₽**"
   ]
  },
  {
   "cell_type": "code",
   "execution_count": null,
   "id": "4bc545e2",
   "metadata": {},
   "outputs": [],
   "source": []
  }
 ],
 "metadata": {
  "kernelspec": {
   "display_name": "Python 3 (ipykernel)",
   "language": "python",
   "name": "python3"
  },
  "language_info": {
   "codemirror_mode": {
    "name": "ipython",
    "version": 3
   },
   "file_extension": ".py",
   "mimetype": "text/x-python",
   "name": "python",
   "nbconvert_exporter": "python",
   "pygments_lexer": "ipython3",
   "version": "3.9.13"
  }
 },
 "nbformat": 4,
 "nbformat_minor": 5
}
